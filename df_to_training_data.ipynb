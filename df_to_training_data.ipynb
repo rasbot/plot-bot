{
 "metadata": {
  "language_info": {
   "codemirror_mode": {
    "name": "ipython",
    "version": 3
   },
   "file_extension": ".py",
   "mimetype": "text/x-python",
   "name": "python",
   "nbconvert_exporter": "python",
   "pygments_lexer": "ipython3",
   "version": "3.6.7-final"
  },
  "orig_nbformat": 2,
  "kernelspec": {
   "name": "python3",
   "display_name": "Python 3"
  }
 },
 "nbformat": 4,
 "nbformat_minor": 2,
 "cells": [
  {
   "cell_type": "code",
   "execution_count": 1,
   "metadata": {},
   "outputs": [],
   "source": [
    "import pandas as pd\n",
    "from datetime import datetime, timedelta\n",
    "import time\n",
    "import json"
   ]
  },
  {
   "source": [
    "## This notebook reads in the IMDb data into a dataframe, and writes the description field to a text file row by row, appending a delimiter between each description"
   ],
   "cell_type": "markdown",
   "metadata": {}
  },
  {
   "cell_type": "code",
   "execution_count": 2,
   "metadata": {},
   "outputs": [],
   "source": [
    "df = pd.read_csv(\"data/IMDb movies.csv\")"
   ]
  },
  {
   "cell_type": "code",
   "execution_count": 5,
   "metadata": {},
   "outputs": [],
   "source": [
    "desc = df.loc[df.description.notnull()]['description']"
   ]
  },
  {
   "cell_type": "code",
   "execution_count": 6,
   "metadata": {},
   "outputs": [
    {
     "output_type": "execute_result",
     "data": {
      "text/plain": [
       "0    The adventures of a female reporter in the 1890s.\n",
       "1    True story of notorious Australian outlaw Ned ...\n",
       "2    Two men of high rank are both wooing the beaut...\n",
       "3    The fabled queen of Egypt's affair with Roman ...\n",
       "4    Loosely adapted from Dante's Divine Comedy and...\n",
       "5    An account of the life of Jesus Christ, based ...\n",
       "6    The story of Madame DuBarry, the mistress of L...\n",
       "7    An epic Italian film \"Quo Vadis\" influenced ma...\n",
       "8    The movie depicts the Romanian War of Independ...\n",
       "9    Richard of Gloucester uses manipulation and mu...\n",
       "Name: description, dtype: object"
      ]
     },
     "metadata": {},
     "execution_count": 6
    }
   ],
   "source": [
    "desc[:10]"
   ]
  },
  {
   "cell_type": "code",
   "execution_count": 7,
   "metadata": {},
   "outputs": [],
   "source": [
    "plots = open(\"plot_training.txt\", \"a\", encoding='utf-8')\n",
    "delim = \"\"\"\n",
    "\n",
    "<|endoftext|>\n",
    "\n",
    "\"\"\"\n",
    "for i in desc:\n",
    "    plots.write(i)\n",
    "    plots.write(delim)\n",
    "plots.close()"
   ]
  }
 ]
}