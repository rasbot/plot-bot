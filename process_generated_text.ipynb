{
 "cells": [
  {
   "cell_type": "code",
   "execution_count": 1,
   "metadata": {},
   "outputs": [],
   "source": [
    "import re\n",
    "import pandas as pd\n",
    "import src.helper_functions as hf"
   ]
  },
  {
   "cell_type": "code",
   "execution_count": 2,
   "metadata": {},
   "outputs": [],
   "source": [
    "space_words = hf.get_text_data(\"data\", \"space_words.txt\", \"|\")\n",
    "horror_words = hf.get_text_data(\"data\", \"horror_words.txt\", \"|\")\n",
    "fantasy_words = hf.get_text_data(\"data\", \"fantasy_words.txt\", \"|\")\n",
    "deny_words = hf.get_text_data(\"data\", \"deny_words.txt\", \"|\")\n",
    "title_filter_words = hf.get_text_data(\"data\", \"title_filter_words.txt\", \"|\")\n",
    "# use a few word grouping in filtering plots\n",
    "search_words = space_words + fantasy_words + horror_words"
   ]
  },
  {
   "cell_type": "code",
   "execution_count": 3,
   "metadata": {},
   "outputs": [],
   "source": [
    "plot_data = hf.get_text_data(\"data\", \"generated_text.txt\", \"\\n<|endoftext|>\\n\")"
   ]
  },
  {
   "cell_type": "code",
   "execution_count": 4,
   "metadata": {},
   "outputs": [],
   "source": [
    "clean_plots = hf.clean_plots(plot_data, charlim=True)\n",
    "plot_d = hf.get_cleaner_plot_dict(clean_plots, title_filter_words)"
   ]
  },
  {
   "cell_type": "code",
   "execution_count": null,
   "metadata": {},
   "outputs": [],
   "source": [
    "# If plots will be filtered to a list containing keywords, use this function\n",
    "plot_d = hf.filter_plots(plot_d, search_words, deny_words)"
   ]
  },
  {
   "cell_type": "code",
   "execution_count": 10,
   "metadata": {},
   "outputs": [],
   "source": [
    "# Write new files to json\n",
    "hf.update_json(\"data\", \"plotbot\", filtered_d)"
   ]
  }
 ],
 "metadata": {
  "kernelspec": {
   "display_name": "Python 3",
   "language": "python",
   "name": "python3"
  },
  "language_info": {
   "codemirror_mode": {
    "name": "ipython",
    "version": 3
   },
   "file_extension": ".py",
   "mimetype": "text/x-python",
   "name": "python",
   "nbconvert_exporter": "python",
   "pygments_lexer": "ipython3",
   "version": "3.6.7"
  }
 },
 "nbformat": 4,
 "nbformat_minor": 4
}
