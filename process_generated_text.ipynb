{
 "cells": [
  {
   "cell_type": "code",
   "execution_count": 1,
   "metadata": {},
   "outputs": [],
   "source": [
    "import src.helper_functions as hf"
   ]
  },
  {
   "cell_type": "code",
   "execution_count": 2,
   "metadata": {},
   "outputs": [],
   "source": [
    "space_words = hf.get_text_data(\"data\", \"space_words.txt\", \"|\")\n",
    "horror_words = hf.get_text_data(\"data\", \"horror_words.txt\", \"|\")\n",
    "fantasy_words = hf.get_text_data(\"data\", \"fantasy_words.txt\", \"|\")\n",
    "deny_words = hf.get_text_data(\"data\", \"deny_words.txt\", \"|\")\n",
    "title_filter_words = hf.get_text_data(\"data\", \"title_filter_words.txt\", \"|\")\n",
    "# use a few word grouping in filtering plots\n",
    "search_words = space_words + fantasy_words + horror_words"
   ]
  },
  {
   "cell_type": "code",
   "execution_count": 8,
   "metadata": {},
   "outputs": [],
   "source": [
    "plot_data = hf.get_text_data(\"data\", \"generated_text.txt\", \"\\n<|endoftext|>\\n\")"
   ]
  },
  {
   "cell_type": "code",
   "execution_count": 9,
   "metadata": {},
   "outputs": [],
   "source": [
    "clean_plots = hf.clean_plots(plot_data, charlim=True)\n",
    "plot_d = hf.get_cleaner_plot_dict(clean_plots, title_filter_words)"
   ]
  },
  {
   "cell_type": "code",
   "execution_count": 11,
   "metadata": {},
   "outputs": [],
   "source": [
    "# If plots will be filtered to a list containing keywords, use this function\n",
    "plot_d = hf.filter_plots(plot_d, search_words, deny_words)"
   ]
  },
  {
   "cell_type": "code",
   "execution_count": 13,
   "metadata": {},
   "outputs": [],
   "source": [
    "# Some generated plots have titles that are real movie titles. Keep some fraction of those\n",
    "plot_d = hf.filter_out_real_titles(\"data\", plot_d, 0.3)"
   ]
  },
  {
   "cell_type": "code",
   "execution_count": 9,
   "metadata": {},
   "outputs": [
    {
     "name": "stdout",
     "output_type": "stream",
     "text": [
      "Number of plots in json file: 1503\n",
      "Number of plots to add: 199\n",
      "Updated plot number: 1503\n",
      "Finished updating plots!\n",
      "Re-read number of plots: 1503\n"
     ]
    }
   ],
   "source": [
    "# Write new files to json\n",
    "hf.update_json(\"data\", \"plotbot\", plot_d)"
   ]
  }
 ],
 "metadata": {
  "kernelspec": {
   "display_name": "Python 3",
   "language": "python",
   "name": "python3"
  },
  "language_info": {
   "codemirror_mode": {
    "name": "ipython",
    "version": 3
   },
   "file_extension": ".py",
   "mimetype": "text/x-python",
   "name": "python",
   "nbconvert_exporter": "python",
   "pygments_lexer": "ipython3",
   "version": "3.6.7"
  }
 },
 "nbformat": 4,
 "nbformat_minor": 4
}
