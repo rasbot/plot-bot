{
 "cells": [
  {
   "cell_type": "code",
   "execution_count": 1,
   "metadata": {},
   "outputs": [],
   "source": [
    "import pandas as pd\n",
    "from datetime import datetime, timedelta\n",
    "import time\n",
    "import json\n",
    "import re\n",
    "pd.set_option('display.max_columns', None)\n",
    "pd.set_option('max_colwidth', None)"
   ]
  },
  {
   "cell_type": "code",
   "execution_count": null,
   "metadata": {},
   "outputs": [],
   "source": [
    "def get_text_data(filepath, filename, delim):\n",
    "    with open('{}/{}'.format(filepath, filename), \"r\", encoding='utf-8') as f:\n",
    "        data = f.read()\n",
    "    return data.split(delim)\n",
    "\n",
    "def get_clean_plots(filename, charlim=False):\n",
    "    with open('d:/gal/gpt-2/src/{}'.format(filename), \"r\", encoding='utf-8') as f:\n",
    "        data = f.read()\n",
    "    plots = data.split('\\n<|endoftext|>\\n')\n",
    "    clean_plots = []\n",
    "    for i in range(len(plots)):\n",
    "        plot = plots[i]\n",
    "        if plot[-1:] == '.' and plot[-3:] != '...':#and re.search('^((?![<|\\||>|\\n]).)*$', plot):\n",
    "            plot = plot.lstrip(' ')\n",
    "            plot = re.sub(\"\\<\\|endoftext\\|\\>\", \"\", plot)\n",
    "            if plot[0].islower():\n",
    "                plot = plot[0].upper() + plot[1:]\n",
    "            if charlim:\n",
    "                if len(plot) <= 280:\n",
    "                    clean_plots.append(plot)\n",
    "            else:\n",
    "                clean_plots.append(plot)\n",
    "    return clean_plots[1:]\n",
    "\n",
    "def get_cleaner_plot_dict(plots):\n",
    "    plot_d = {}\n",
    "    for i in plots:\n",
    "        try:\n",
    "            splt = i.split(\"\\n\")[0:3:2]\n",
    "            if not re.search(\"|\".join(title_filter_words), splt[0]):\n",
    "                plot_d[splt[0]] = splt[1]\n",
    "        except:\n",
    "            print(\"error:\", i)\n",
    "    return plot_d\n",
    "\n",
    "def create_plots_dataframe(d):\n",
    "    titles = list(d.keys())\n",
    "    plots = list(d.values())\n",
    "    ids = [i for i in range(len(d))]\n",
    "    temp_d = {\"id\": ids, \"title\": titles, \"plot\": plots}\n",
    "    return pd.DataFrame(data=temp_d)"
   ]
  }
 ],
 "metadata": {
  "kernelspec": {
   "display_name": "Python 3",
   "language": "python",
   "name": "python3"
  },
  "language_info": {
   "codemirror_mode": {
    "name": "ipython",
    "version": 3
   },
   "file_extension": ".py",
   "mimetype": "text/x-python",
   "name": "python",
   "nbconvert_exporter": "python",
   "pygments_lexer": "ipython3",
   "version": "3.6.7"
  }
 },
 "nbformat": 4,
 "nbformat_minor": 4
}
