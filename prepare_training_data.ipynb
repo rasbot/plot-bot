{
 "cells": [
  {
   "cell_type": "markdown",
   "metadata": {},
   "source": [
    "## This notebook prepares the training data used in training GPT-2"
   ]
  },
  {
   "cell_type": "code",
   "execution_count": 1,
   "metadata": {},
   "outputs": [],
   "source": [
    "import pandas as pd\n",
    "from datetime import datetime, timedelta\n",
    "import time\n",
    "import json\n",
    "import re\n",
    "from collections import Counter\n",
    "# pd.set_option('display.max_colwidth', None)\n",
    "# pd.set_option('display.max_columns', None)\n",
    "# pd.set_option('display.max_rows', None)"
   ]
  },
  {
   "cell_type": "markdown",
   "metadata": {},
   "source": [
    "IMDb movie data is pulled into a dataframe"
   ]
  },
  {
   "cell_type": "code",
   "execution_count": 2,
   "metadata": {},
   "outputs": [
    {
     "name": "stderr",
     "output_type": "stream",
     "text": [
      "C:\\Users\\natha\\Miniconda3\\lib\\site-packages\\IPython\\core\\interactiveshell.py:3063: DtypeWarning: Columns (3) have mixed types.Specify dtype option on import or set low_memory=False.\n",
      "  interactivity=interactivity, compiler=compiler, result=result)\n"
     ]
    }
   ],
   "source": [
    "df = pd.read_csv(\"data/IMDb movies.csv\")"
   ]
  },
  {
   "cell_type": "code",
   "execution_count": 3,
   "metadata": {},
   "outputs": [
    {
     "data": {
      "text/html": [
       "<div>\n",
       "<style scoped>\n",
       "    .dataframe tbody tr th:only-of-type {\n",
       "        vertical-align: middle;\n",
       "    }\n",
       "\n",
       "    .dataframe tbody tr th {\n",
       "        vertical-align: top;\n",
       "    }\n",
       "\n",
       "    .dataframe thead th {\n",
       "        text-align: right;\n",
       "    }\n",
       "</style>\n",
       "<table border=\"1\" class=\"dataframe\">\n",
       "  <thead>\n",
       "    <tr style=\"text-align: right;\">\n",
       "      <th></th>\n",
       "      <th>imdb_title_id</th>\n",
       "      <th>title</th>\n",
       "      <th>original_title</th>\n",
       "      <th>year</th>\n",
       "      <th>date_published</th>\n",
       "      <th>genre</th>\n",
       "      <th>duration</th>\n",
       "      <th>country</th>\n",
       "      <th>language</th>\n",
       "      <th>director</th>\n",
       "      <th>...</th>\n",
       "      <th>actors</th>\n",
       "      <th>description</th>\n",
       "      <th>avg_vote</th>\n",
       "      <th>votes</th>\n",
       "      <th>budget</th>\n",
       "      <th>usa_gross_income</th>\n",
       "      <th>worlwide_gross_income</th>\n",
       "      <th>metascore</th>\n",
       "      <th>reviews_from_users</th>\n",
       "      <th>reviews_from_critics</th>\n",
       "    </tr>\n",
       "  </thead>\n",
       "  <tbody>\n",
       "    <tr>\n",
       "      <th>0</th>\n",
       "      <td>tt0000009</td>\n",
       "      <td>Miss Jerry</td>\n",
       "      <td>Miss Jerry</td>\n",
       "      <td>1894</td>\n",
       "      <td>1894-10-09</td>\n",
       "      <td>Romance</td>\n",
       "      <td>45</td>\n",
       "      <td>USA</td>\n",
       "      <td>None</td>\n",
       "      <td>Alexander Black</td>\n",
       "      <td>...</td>\n",
       "      <td>Blanche Bayliss, William Courtenay, Chauncey D...</td>\n",
       "      <td>The adventures of a female reporter in the 1890s.</td>\n",
       "      <td>5.9</td>\n",
       "      <td>154</td>\n",
       "      <td>NaN</td>\n",
       "      <td>NaN</td>\n",
       "      <td>NaN</td>\n",
       "      <td>NaN</td>\n",
       "      <td>1.0</td>\n",
       "      <td>2.0</td>\n",
       "    </tr>\n",
       "    <tr>\n",
       "      <th>1</th>\n",
       "      <td>tt0000574</td>\n",
       "      <td>The Story of the Kelly Gang</td>\n",
       "      <td>The Story of the Kelly Gang</td>\n",
       "      <td>1906</td>\n",
       "      <td>1906-12-26</td>\n",
       "      <td>Biography, Crime, Drama</td>\n",
       "      <td>70</td>\n",
       "      <td>Australia</td>\n",
       "      <td>None</td>\n",
       "      <td>Charles Tait</td>\n",
       "      <td>...</td>\n",
       "      <td>Elizabeth Tait, John Tait, Norman Campbell, Be...</td>\n",
       "      <td>True story of notorious Australian outlaw Ned ...</td>\n",
       "      <td>6.1</td>\n",
       "      <td>589</td>\n",
       "      <td>$ 2250</td>\n",
       "      <td>NaN</td>\n",
       "      <td>NaN</td>\n",
       "      <td>NaN</td>\n",
       "      <td>7.0</td>\n",
       "      <td>7.0</td>\n",
       "    </tr>\n",
       "    <tr>\n",
       "      <th>2</th>\n",
       "      <td>tt0001892</td>\n",
       "      <td>Den sorte drøm</td>\n",
       "      <td>Den sorte drøm</td>\n",
       "      <td>1911</td>\n",
       "      <td>1911-08-19</td>\n",
       "      <td>Drama</td>\n",
       "      <td>53</td>\n",
       "      <td>Germany, Denmark</td>\n",
       "      <td>NaN</td>\n",
       "      <td>Urban Gad</td>\n",
       "      <td>...</td>\n",
       "      <td>Asta Nielsen, Valdemar Psilander, Gunnar Helse...</td>\n",
       "      <td>Two men of high rank are both wooing the beaut...</td>\n",
       "      <td>5.8</td>\n",
       "      <td>188</td>\n",
       "      <td>NaN</td>\n",
       "      <td>NaN</td>\n",
       "      <td>NaN</td>\n",
       "      <td>NaN</td>\n",
       "      <td>5.0</td>\n",
       "      <td>2.0</td>\n",
       "    </tr>\n",
       "  </tbody>\n",
       "</table>\n",
       "<p>3 rows × 22 columns</p>\n",
       "</div>"
      ],
      "text/plain": [
       "  imdb_title_id                        title               original_title  \\\n",
       "0     tt0000009                   Miss Jerry                   Miss Jerry   \n",
       "1     tt0000574  The Story of the Kelly Gang  The Story of the Kelly Gang   \n",
       "2     tt0001892               Den sorte drøm               Den sorte drøm   \n",
       "\n",
       "   year date_published                    genre  duration           country  \\\n",
       "0  1894     1894-10-09                  Romance        45               USA   \n",
       "1  1906     1906-12-26  Biography, Crime, Drama        70         Australia   \n",
       "2  1911     1911-08-19                    Drama        53  Germany, Denmark   \n",
       "\n",
       "  language         director  ...  \\\n",
       "0     None  Alexander Black  ...   \n",
       "1     None     Charles Tait  ...   \n",
       "2      NaN        Urban Gad  ...   \n",
       "\n",
       "                                              actors  \\\n",
       "0  Blanche Bayliss, William Courtenay, Chauncey D...   \n",
       "1  Elizabeth Tait, John Tait, Norman Campbell, Be...   \n",
       "2  Asta Nielsen, Valdemar Psilander, Gunnar Helse...   \n",
       "\n",
       "                                         description avg_vote votes  budget  \\\n",
       "0  The adventures of a female reporter in the 1890s.      5.9   154     NaN   \n",
       "1  True story of notorious Australian outlaw Ned ...      6.1   589  $ 2250   \n",
       "2  Two men of high rank are both wooing the beaut...      5.8   188     NaN   \n",
       "\n",
       "   usa_gross_income worlwide_gross_income metascore reviews_from_users  \\\n",
       "0               NaN                   NaN       NaN                1.0   \n",
       "1               NaN                   NaN       NaN                7.0   \n",
       "2               NaN                   NaN       NaN                5.0   \n",
       "\n",
       "   reviews_from_critics  \n",
       "0                   2.0  \n",
       "1                   7.0  \n",
       "2                   2.0  \n",
       "\n",
       "[3 rows x 22 columns]"
      ]
     },
     "execution_count": 3,
     "metadata": {},
     "output_type": "execute_result"
    }
   ],
   "source": [
    "df.head(3)"
   ]
  },
  {
   "cell_type": "code",
   "execution_count": 4,
   "metadata": {},
   "outputs": [
    {
     "data": {
      "text/plain": [
       "Index(['imdb_title_id', 'title', 'original_title', 'year', 'date_published',\n",
       "       'genre', 'duration', 'country', 'language', 'director', 'writer',\n",
       "       'production_company', 'actors', 'description', 'avg_vote', 'votes',\n",
       "       'budget', 'usa_gross_income', 'worlwide_gross_income', 'metascore',\n",
       "       'reviews_from_users', 'reviews_from_critics'],\n",
       "      dtype='object')"
      ]
     },
     "execution_count": 4,
     "metadata": {},
     "output_type": "execute_result"
    }
   ],
   "source": [
    "df.columns"
   ]
  },
  {
   "cell_type": "markdown",
   "metadata": {},
   "source": [
    "Filter out incomplete descriptions"
   ]
  },
  {
   "cell_type": "code",
   "execution_count": 56,
   "metadata": {},
   "outputs": [],
   "source": [
    "temp = df.loc[df.description.notnull()].copy()\n",
    "df = temp[~temp.description.str.contains(\"\\.{3}$\")].copy()"
   ]
  },
  {
   "cell_type": "code",
   "execution_count": 57,
   "metadata": {},
   "outputs": [],
   "source": [
    "training_data = list(df[\"description\"].values)"
   ]
  },
  {
   "cell_type": "markdown",
   "metadata": {},
   "source": [
    "Check for duplicates"
   ]
  },
  {
   "cell_type": "code",
   "execution_count": 66,
   "metadata": {},
   "outputs": [
    {
     "name": "stdout",
     "output_type": "stream",
     "text": [
      "number of plots       : 59929\n",
      "number of unique plots: 59806\n"
     ]
    }
   ],
   "source": [
    "print(\"number of plots       :\", len(training_data))\n",
    "print(\"number of unique plots:\", len(list(set(training_data))))"
   ]
  },
  {
   "cell_type": "markdown",
   "metadata": {},
   "source": [
    "Check which plots are duplicates. Some might be movies with different titles, but just to see what kinds of plots there are dupes of."
   ]
  },
  {
   "cell_type": "code",
   "execution_count": 74,
   "metadata": {},
   "outputs": [],
   "source": [
    "def get_most_common(val_list, n):\n",
    "    \"\"\"Return n most common values from the list val_list\"\"\"\n",
    "    count_d = {}\n",
    "    for v in val_list:\n",
    "        if v in count_d.keys():\n",
    "            count_d[v] += 1\n",
    "        else:\n",
    "            count_d[v] = 1\n",
    "    k = Counter(count_d)\n",
    "    return k.most_common(n)"
   ]
  },
  {
   "cell_type": "code",
   "execution_count": 75,
   "metadata": {},
   "outputs": [
    {
     "data": {
      "text/plain": [
       "[('The story of', 15),\n",
       " ('Mail', 6),\n",
       " ('In this sequel to', 5),\n",
       " ('Based on', 5),\n",
       " ('The true story of', 5),\n",
       " ('Emil goes to Berlin to see his grandmother with a large amount of money and is offered sweets by a strange man that make him sleep. He wakes up at his stop with no money. It is up to him and a group of children to save the day.',\n",
       "  4),\n",
       " ('Tom Sawyer and his pal Huckleberry Finn have great adventures on the Mississippi River, pretending to be pirates, attending their own funeral and witnessing a murder.',\n",
       "  4),\n",
       " ('During World War II, a teenage Jewish girl named Anne Frank and her family are forced into hiding in the Nazi-occupied Netherlands.',\n",
       "  4),\n",
       " ('Desperate measures are taken by a man who tries to save his family from the dark side of the law, after they commit an unexpected crime.',\n",
       "  4),\n",
       " ('Dr. Henry Jekyll experiments with scientific means of revealing the hidden, dark side of man and releases a murderer from within himself.',\n",
       "  3)]"
      ]
     },
     "execution_count": 75,
     "metadata": {},
     "output_type": "execute_result"
    }
   ],
   "source": [
    "get_most_common(training_data, 10)"
   ]
  },
  {
   "cell_type": "code",
   "execution_count": 82,
   "metadata": {},
   "outputs": [
    {
     "data": {
      "text/html": [
       "<div>\n",
       "<style scoped>\n",
       "    .dataframe tbody tr th:only-of-type {\n",
       "        vertical-align: middle;\n",
       "    }\n",
       "\n",
       "    .dataframe tbody tr th {\n",
       "        vertical-align: top;\n",
       "    }\n",
       "\n",
       "    .dataframe thead th {\n",
       "        text-align: right;\n",
       "    }\n",
       "</style>\n",
       "<table border=\"1\" class=\"dataframe\">\n",
       "  <thead>\n",
       "    <tr style=\"text-align: right;\">\n",
       "      <th></th>\n",
       "      <th>title</th>\n",
       "      <th>year</th>\n",
       "      <th>description</th>\n",
       "    </tr>\n",
       "  </thead>\n",
       "  <tbody>\n",
       "    <tr>\n",
       "      <th>11147</th>\n",
       "      <td>Lawrence d'Arabia</td>\n",
       "      <td>1962</td>\n",
       "      <td>The story of</td>\n",
       "    </tr>\n",
       "    <tr>\n",
       "      <th>11176</th>\n",
       "      <td>Anna dei miracoli</td>\n",
       "      <td>1962</td>\n",
       "      <td>The story of</td>\n",
       "    </tr>\n",
       "    <tr>\n",
       "      <th>12292</th>\n",
       "      <td>Flagrante adulterio</td>\n",
       "      <td>1965</td>\n",
       "      <td>In this sequel to</td>\n",
       "    </tr>\n",
       "    <tr>\n",
       "      <th>18589</th>\n",
       "      <td>Oliver's Story</td>\n",
       "      <td>1978</td>\n",
       "      <td>In this sequel to</td>\n",
       "    </tr>\n",
       "    <tr>\n",
       "      <th>20403</th>\n",
       "      <td>Frances</td>\n",
       "      <td>1982</td>\n",
       "      <td>The story of</td>\n",
       "    </tr>\n",
       "    <tr>\n",
       "      <th>23930</th>\n",
       "      <td>Gorilla nella nebbia</td>\n",
       "      <td>1988</td>\n",
       "      <td>The story of</td>\n",
       "    </tr>\n",
       "    <tr>\n",
       "      <th>25300</th>\n",
       "      <td>Quei bravi ragazzi</td>\n",
       "      <td>1990</td>\n",
       "      <td>The story of</td>\n",
       "    </tr>\n",
       "    <tr>\n",
       "      <th>26206</th>\n",
       "      <td>Ritorno alla laguna blu</td>\n",
       "      <td>1991</td>\n",
       "      <td>In this sequel to</td>\n",
       "    </tr>\n",
       "    <tr>\n",
       "      <th>33741</th>\n",
       "      <td>Revelation</td>\n",
       "      <td>1999</td>\n",
       "      <td>In this sequel to</td>\n",
       "    </tr>\n",
       "    <tr>\n",
       "      <th>52421</th>\n",
       "      <td>Milk</td>\n",
       "      <td>2008</td>\n",
       "      <td>The story of</td>\n",
       "    </tr>\n",
       "    <tr>\n",
       "      <th>57971</th>\n",
       "      <td>Lovelace</td>\n",
       "      <td>2013</td>\n",
       "      <td>The story of</td>\n",
       "    </tr>\n",
       "    <tr>\n",
       "      <th>58761</th>\n",
       "      <td>Il discorso del re</td>\n",
       "      <td>2010</td>\n",
       "      <td>The story of</td>\n",
       "    </tr>\n",
       "    <tr>\n",
       "      <th>66582</th>\n",
       "      <td>Jobs</td>\n",
       "      <td>2013</td>\n",
       "      <td>The story of</td>\n",
       "    </tr>\n",
       "    <tr>\n",
       "      <th>66971</th>\n",
       "      <td>Queen &amp; Country</td>\n",
       "      <td>2014</td>\n",
       "      <td>In this sequel to</td>\n",
       "    </tr>\n",
       "    <tr>\n",
       "      <th>74232</th>\n",
       "      <td>The Founder</td>\n",
       "      <td>2016</td>\n",
       "      <td>The story of</td>\n",
       "    </tr>\n",
       "    <tr>\n",
       "      <th>75364</th>\n",
       "      <td>Christine</td>\n",
       "      <td>2016</td>\n",
       "      <td>The story of</td>\n",
       "    </tr>\n",
       "    <tr>\n",
       "      <th>76963</th>\n",
       "      <td>The Silent Man</td>\n",
       "      <td>2017</td>\n",
       "      <td>The story of</td>\n",
       "    </tr>\n",
       "    <tr>\n",
       "      <th>77363</th>\n",
       "      <td>Marcia per la libertà</td>\n",
       "      <td>2017</td>\n",
       "      <td>The story of</td>\n",
       "    </tr>\n",
       "    <tr>\n",
       "      <th>77731</th>\n",
       "      <td>Nureyev - The White Crow</td>\n",
       "      <td>2018</td>\n",
       "      <td>The story of</td>\n",
       "    </tr>\n",
       "    <tr>\n",
       "      <th>80151</th>\n",
       "      <td>Vice - L'uomo nell'ombra</td>\n",
       "      <td>2018</td>\n",
       "      <td>The story of</td>\n",
       "    </tr>\n",
       "  </tbody>\n",
       "</table>\n",
       "</div>"
      ],
      "text/plain": [
       "                          title  year        description\n",
       "11147         Lawrence d'Arabia  1962       The story of\n",
       "11176         Anna dei miracoli  1962       The story of\n",
       "12292       Flagrante adulterio  1965  In this sequel to\n",
       "18589            Oliver's Story  1978  In this sequel to\n",
       "20403                   Frances  1982       The story of\n",
       "23930      Gorilla nella nebbia  1988       The story of\n",
       "25300        Quei bravi ragazzi  1990       The story of\n",
       "26206   Ritorno alla laguna blu  1991  In this sequel to\n",
       "33741                Revelation  1999  In this sequel to\n",
       "52421                      Milk  2008       The story of\n",
       "57971                  Lovelace  2013       The story of\n",
       "58761        Il discorso del re  2010       The story of\n",
       "66582                      Jobs  2013       The story of\n",
       "66971           Queen & Country  2014  In this sequel to\n",
       "74232               The Founder  2016       The story of\n",
       "75364                 Christine  2016       The story of\n",
       "76963            The Silent Man  2017       The story of\n",
       "77363     Marcia per la libertà  2017       The story of\n",
       "77731  Nureyev - The White Crow  2018       The story of\n",
       "80151  Vice - L'uomo nell'ombra  2018       The story of"
      ]
     },
     "execution_count": 82,
     "metadata": {},
     "output_type": "execute_result"
    }
   ],
   "source": [
    "df[df.description.isin([\"The story of\", \n",
    "                        \"In this sequel to\"\n",
    "                       ])\n",
    "  ][[\"title\", \"year\", \"description\"]]"
   ]
  },
  {
   "cell_type": "markdown",
   "metadata": {},
   "source": [
    "Let's filter out the top few of these since they look like bad data."
   ]
  },
  {
   "cell_type": "code",
   "execution_count": 85,
   "metadata": {},
   "outputs": [],
   "source": [
    "bad_plots = [i[0] for i in get_most_common(training_data, 5)]"
   ]
  },
  {
   "cell_type": "code",
   "execution_count": 86,
   "metadata": {},
   "outputs": [],
   "source": [
    "training_data = [i for i in training_data if i not in bad_plots]"
   ]
  },
  {
   "cell_type": "code",
   "execution_count": 87,
   "metadata": {},
   "outputs": [
    {
     "name": "stdout",
     "output_type": "stream",
     "text": [
      "number of plots       : 59893\n",
      "number of unique plots: 59801\n"
     ]
    }
   ],
   "source": [
    "print(\"number of plots       :\", len(training_data))\n",
    "print(\"number of unique plots:\", len(list(set(training_data))))"
   ]
  },
  {
   "cell_type": "markdown",
   "metadata": {},
   "source": [
    "Still some duplicates, but removing the weird plots was good and casting to a set will remove any duplicates."
   ]
  },
  {
   "cell_type": "code",
   "execution_count": 88,
   "metadata": {},
   "outputs": [
    {
     "name": "stdout",
     "output_type": "stream",
     "text": [
      "The adventures of a female reporter in the 1890s.\n",
      "True story of notorious Australian outlaw Ned Kelly (1855-80).\n",
      "The fabled queen of Egypt's affair with Roman general Marc Antony is ultimately disastrous for both of them.\n",
      "Loosely adapted from Dante's Divine Comedy and inspired by the illustrations of Gustav Doré the original silent film has been restored and has a new score by Tangerine Dream.\n",
      "The story of Madame DuBarry, the mistress of Louis XV of France, and her loves in the time of the French revolution.\n",
      "An epic Italian film \"Quo Vadis\" influenced many of the later movies.\n",
      "The movie depicts the Romanian War of Independence (1877-1878).\n",
      "Richard of Gloucester uses manipulation and murder to gain the English throne.\n",
      "After Dr. Friedrich's wife becomes mentally unstable and his research papers are rejected, he leaves the country to respite.\n",
      "Inspector Juve is tasked to investigate and capture an infamous criminal Fantomas.\n"
     ]
    }
   ],
   "source": [
    "for i in training_data[:10]:\n",
    "    print(i)"
   ]
  },
  {
   "cell_type": "markdown",
   "metadata": {},
   "source": [
    "Write plots to a text file, separated by a delimiter"
   ]
  },
  {
   "cell_type": "code",
   "execution_count": 9,
   "metadata": {},
   "outputs": [],
   "source": [
    "delim = \"<|endoftext|>\""
   ]
  },
  {
   "cell_type": "code",
   "execution_count": 10,
   "metadata": {},
   "outputs": [],
   "source": [
    "plots = open(\"plot_training.txt\", \"w\", encoding='utf-8')\n",
    "\n",
    "for i in training_data:\n",
    "    plots.write(\"{}\\n\\n{}\\n\\n\".format(i, delim))\n",
    "\n",
    "plots.close()"
   ]
  }
 ],
 "metadata": {
  "kernelspec": {
   "display_name": "Python 3",
   "language": "python",
   "name": "python3"
  },
  "language_info": {
   "codemirror_mode": {
    "name": "ipython",
    "version": 3
   },
   "file_extension": ".py",
   "mimetype": "text/x-python",
   "name": "python",
   "nbconvert_exporter": "python",
   "pygments_lexer": "ipython3",
   "version": "3.6.7"
  }
 },
 "nbformat": 4,
 "nbformat_minor": 2
}
