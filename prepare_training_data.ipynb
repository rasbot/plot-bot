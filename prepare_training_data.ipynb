{
 "cells": [
  {
   "cell_type": "markdown",
   "metadata": {},
   "source": [
    "## This notebook prepares the training data used in training GPT-2"
   ]
  },
  {
   "cell_type": "code",
   "execution_count": 1,
   "metadata": {},
   "outputs": [],
   "source": [
    "import pandas as pd\n",
    "from datetime import datetime, timedelta\n",
    "import time\n",
    "import json\n",
    "import re\n",
    "from collections import Counter\n",
    "# pd.set_option('display.max_colwidth', None)\n",
    "# pd.set_option('display.max_columns', None)\n",
    "# pd.set_option('display.max_rows', None)"
   ]
  },
  {
   "cell_type": "markdown",
   "metadata": {},
   "source": [
    "IMDb movie data is pulled into a dataframe"
   ]
  },
  {
   "cell_type": "code",
   "execution_count": 2,
   "metadata": {},
   "outputs": [
    {
     "name": "stderr",
     "output_type": "stream",
     "text": [
      "C:\\Users\\natha\\Anaconda3\\lib\\site-packages\\IPython\\core\\interactiveshell.py:3058: DtypeWarning: Columns (3) have mixed types.Specify dtype option on import or set low_memory=False.\n",
      "  interactivity=interactivity, compiler=compiler, result=result)\n"
     ]
    }
   ],
   "source": [
    "df = pd.read_csv(\"data/IMDb movies.csv\", encoding='utf-8')"
   ]
  },
  {
   "cell_type": "code",
   "execution_count": 3,
   "metadata": {},
   "outputs": [
    {
     "data": {
      "text/html": [
       "<div>\n",
       "<style scoped>\n",
       "    .dataframe tbody tr th:only-of-type {\n",
       "        vertical-align: middle;\n",
       "    }\n",
       "\n",
       "    .dataframe tbody tr th {\n",
       "        vertical-align: top;\n",
       "    }\n",
       "\n",
       "    .dataframe thead th {\n",
       "        text-align: right;\n",
       "    }\n",
       "</style>\n",
       "<table border=\"1\" class=\"dataframe\">\n",
       "  <thead>\n",
       "    <tr style=\"text-align: right;\">\n",
       "      <th></th>\n",
       "      <th>imdb_title_id</th>\n",
       "      <th>title</th>\n",
       "      <th>original_title</th>\n",
       "      <th>year</th>\n",
       "      <th>date_published</th>\n",
       "      <th>genre</th>\n",
       "      <th>duration</th>\n",
       "      <th>country</th>\n",
       "      <th>language</th>\n",
       "      <th>director</th>\n",
       "      <th>...</th>\n",
       "      <th>actors</th>\n",
       "      <th>description</th>\n",
       "      <th>avg_vote</th>\n",
       "      <th>votes</th>\n",
       "      <th>budget</th>\n",
       "      <th>usa_gross_income</th>\n",
       "      <th>worlwide_gross_income</th>\n",
       "      <th>metascore</th>\n",
       "      <th>reviews_from_users</th>\n",
       "      <th>reviews_from_critics</th>\n",
       "    </tr>\n",
       "  </thead>\n",
       "  <tbody>\n",
       "    <tr>\n",
       "      <th>0</th>\n",
       "      <td>tt0000009</td>\n",
       "      <td>Miss Jerry</td>\n",
       "      <td>Miss Jerry</td>\n",
       "      <td>1894</td>\n",
       "      <td>1894-10-09</td>\n",
       "      <td>Romance</td>\n",
       "      <td>45</td>\n",
       "      <td>USA</td>\n",
       "      <td>None</td>\n",
       "      <td>Alexander Black</td>\n",
       "      <td>...</td>\n",
       "      <td>Blanche Bayliss, William Courtenay, Chauncey D...</td>\n",
       "      <td>The adventures of a female reporter in the 1890s.</td>\n",
       "      <td>5.9</td>\n",
       "      <td>154</td>\n",
       "      <td>NaN</td>\n",
       "      <td>NaN</td>\n",
       "      <td>NaN</td>\n",
       "      <td>NaN</td>\n",
       "      <td>1.0</td>\n",
       "      <td>2.0</td>\n",
       "    </tr>\n",
       "    <tr>\n",
       "      <th>1</th>\n",
       "      <td>tt0000574</td>\n",
       "      <td>The Story of the Kelly Gang</td>\n",
       "      <td>The Story of the Kelly Gang</td>\n",
       "      <td>1906</td>\n",
       "      <td>1906-12-26</td>\n",
       "      <td>Biography, Crime, Drama</td>\n",
       "      <td>70</td>\n",
       "      <td>Australia</td>\n",
       "      <td>None</td>\n",
       "      <td>Charles Tait</td>\n",
       "      <td>...</td>\n",
       "      <td>Elizabeth Tait, John Tait, Norman Campbell, Be...</td>\n",
       "      <td>True story of notorious Australian outlaw Ned ...</td>\n",
       "      <td>6.1</td>\n",
       "      <td>589</td>\n",
       "      <td>$ 2250</td>\n",
       "      <td>NaN</td>\n",
       "      <td>NaN</td>\n",
       "      <td>NaN</td>\n",
       "      <td>7.0</td>\n",
       "      <td>7.0</td>\n",
       "    </tr>\n",
       "    <tr>\n",
       "      <th>2</th>\n",
       "      <td>tt0001892</td>\n",
       "      <td>Den sorte drøm</td>\n",
       "      <td>Den sorte drøm</td>\n",
       "      <td>1911</td>\n",
       "      <td>1911-08-19</td>\n",
       "      <td>Drama</td>\n",
       "      <td>53</td>\n",
       "      <td>Germany, Denmark</td>\n",
       "      <td>NaN</td>\n",
       "      <td>Urban Gad</td>\n",
       "      <td>...</td>\n",
       "      <td>Asta Nielsen, Valdemar Psilander, Gunnar Helse...</td>\n",
       "      <td>Two men of high rank are both wooing the beaut...</td>\n",
       "      <td>5.8</td>\n",
       "      <td>188</td>\n",
       "      <td>NaN</td>\n",
       "      <td>NaN</td>\n",
       "      <td>NaN</td>\n",
       "      <td>NaN</td>\n",
       "      <td>5.0</td>\n",
       "      <td>2.0</td>\n",
       "    </tr>\n",
       "  </tbody>\n",
       "</table>\n",
       "<p>3 rows × 22 columns</p>\n",
       "</div>"
      ],
      "text/plain": [
       "  imdb_title_id                        title               original_title  \\\n",
       "0     tt0000009                   Miss Jerry                   Miss Jerry   \n",
       "1     tt0000574  The Story of the Kelly Gang  The Story of the Kelly Gang   \n",
       "2     tt0001892               Den sorte drøm               Den sorte drøm   \n",
       "\n",
       "   year date_published                    genre  duration           country  \\\n",
       "0  1894     1894-10-09                  Romance        45               USA   \n",
       "1  1906     1906-12-26  Biography, Crime, Drama        70         Australia   \n",
       "2  1911     1911-08-19                    Drama        53  Germany, Denmark   \n",
       "\n",
       "  language         director  ...  \\\n",
       "0     None  Alexander Black  ...   \n",
       "1     None     Charles Tait  ...   \n",
       "2      NaN        Urban Gad  ...   \n",
       "\n",
       "                                              actors  \\\n",
       "0  Blanche Bayliss, William Courtenay, Chauncey D...   \n",
       "1  Elizabeth Tait, John Tait, Norman Campbell, Be...   \n",
       "2  Asta Nielsen, Valdemar Psilander, Gunnar Helse...   \n",
       "\n",
       "                                         description avg_vote votes  budget  \\\n",
       "0  The adventures of a female reporter in the 1890s.      5.9   154     NaN   \n",
       "1  True story of notorious Australian outlaw Ned ...      6.1   589  $ 2250   \n",
       "2  Two men of high rank are both wooing the beaut...      5.8   188     NaN   \n",
       "\n",
       "   usa_gross_income worlwide_gross_income metascore reviews_from_users  \\\n",
       "0               NaN                   NaN       NaN                1.0   \n",
       "1               NaN                   NaN       NaN                7.0   \n",
       "2               NaN                   NaN       NaN                5.0   \n",
       "\n",
       "   reviews_from_critics  \n",
       "0                   2.0  \n",
       "1                   7.0  \n",
       "2                   2.0  \n",
       "\n",
       "[3 rows x 22 columns]"
      ]
     },
     "execution_count": 3,
     "metadata": {},
     "output_type": "execute_result"
    }
   ],
   "source": [
    "df.head(3)"
   ]
  },
  {
   "cell_type": "code",
   "execution_count": 4,
   "metadata": {},
   "outputs": [
    {
     "data": {
      "text/plain": [
       "Index(['imdb_title_id', 'title', 'original_title', 'year', 'date_published',\n",
       "       'genre', 'duration', 'country', 'language', 'director', 'writer',\n",
       "       'production_company', 'actors', 'description', 'avg_vote', 'votes',\n",
       "       'budget', 'usa_gross_income', 'worlwide_gross_income', 'metascore',\n",
       "       'reviews_from_users', 'reviews_from_critics'],\n",
       "      dtype='object')"
      ]
     },
     "execution_count": 4,
     "metadata": {},
     "output_type": "execute_result"
    }
   ],
   "source": [
    "df.columns"
   ]
  },
  {
   "cell_type": "markdown",
   "metadata": {},
   "source": [
    "Filter out incomplete descriptions"
   ]
  },
  {
   "cell_type": "code",
   "execution_count": 5,
   "metadata": {},
   "outputs": [],
   "source": [
    "temp = df.loc[df.description.notnull()].copy()\n",
    "df = temp[~temp.description.str.contains(\"\\.{3}$\")].copy()"
   ]
  },
  {
   "cell_type": "code",
   "execution_count": 6,
   "metadata": {},
   "outputs": [],
   "source": [
    "training_data = list(df[\"description\"].values)"
   ]
  },
  {
   "cell_type": "markdown",
   "metadata": {},
   "source": [
    "Check for duplicates"
   ]
  },
  {
   "cell_type": "code",
   "execution_count": 7,
   "metadata": {},
   "outputs": [
    {
     "name": "stdout",
     "output_type": "stream",
     "text": [
      "number of plots       : 59929\n",
      "number of unique plots: 59806\n",
      "number of duplicates  : 123\n"
     ]
    }
   ],
   "source": [
    "n_plots = len(training_data)\n",
    "n_unique = len(list(set(training_data)))\n",
    "n_dupe = n_plots - n_unique\n",
    "print(\"number of plots       :\", n_plots)\n",
    "print(\"number of unique plots:\", n_unique)\n",
    "print(\"number of duplicates  :\", n_dupe)"
   ]
  },
  {
   "cell_type": "markdown",
   "metadata": {},
   "source": [
    "Investigate duplicates"
   ]
  },
  {
   "cell_type": "code",
   "execution_count": 8,
   "metadata": {},
   "outputs": [],
   "source": [
    "def get_most_common(val_list, n):\n",
    "    \"\"\"Return n most common values from the list val_list\"\"\"\n",
    "    count_d = {}\n",
    "    for v in val_list:\n",
    "        if v in count_d.keys():\n",
    "            count_d[v] += 1\n",
    "        else:\n",
    "            count_d[v] = 1\n",
    "    k = Counter(count_d)\n",
    "    return k.most_common(n)"
   ]
  },
  {
   "cell_type": "code",
   "execution_count": 9,
   "metadata": {},
   "outputs": [
    {
     "data": {
      "text/plain": [
       "[('The story of', 15),\n",
       " ('Mail', 6),\n",
       " ('In this sequel to', 5),\n",
       " ('Based on', 5),\n",
       " ('The true story of', 5),\n",
       " ('Emil goes to Berlin to see his grandmother with a large amount of money and is offered sweets by a strange man that make him sleep. He wakes up at his stop with no money. It is up to him and a group of children to save the day.',\n",
       "  4),\n",
       " ('Tom Sawyer and his pal Huckleberry Finn have great adventures on the Mississippi River, pretending to be pirates, attending their own funeral and witnessing a murder.',\n",
       "  4),\n",
       " ('During World War II, a teenage Jewish girl named Anne Frank and her family are forced into hiding in the Nazi-occupied Netherlands.',\n",
       "  4),\n",
       " ('Desperate measures are taken by a man who tries to save his family from the dark side of the law, after they commit an unexpected crime.',\n",
       "  4),\n",
       " ('Dr. Henry Jekyll experiments with scientific means of revealing the hidden, dark side of man and releases a murderer from within himself.',\n",
       "  3)]"
      ]
     },
     "execution_count": 9,
     "metadata": {},
     "output_type": "execute_result"
    }
   ],
   "source": [
    "get_most_common(training_data, 10)"
   ]
  },
  {
   "cell_type": "code",
   "execution_count": 10,
   "metadata": {},
   "outputs": [
    {
     "data": {
      "text/html": [
       "<div>\n",
       "<style scoped>\n",
       "    .dataframe tbody tr th:only-of-type {\n",
       "        vertical-align: middle;\n",
       "    }\n",
       "\n",
       "    .dataframe tbody tr th {\n",
       "        vertical-align: top;\n",
       "    }\n",
       "\n",
       "    .dataframe thead th {\n",
       "        text-align: right;\n",
       "    }\n",
       "</style>\n",
       "<table border=\"1\" class=\"dataframe\">\n",
       "  <thead>\n",
       "    <tr style=\"text-align: right;\">\n",
       "      <th></th>\n",
       "      <th>title</th>\n",
       "      <th>year</th>\n",
       "      <th>description</th>\n",
       "    </tr>\n",
       "  </thead>\n",
       "  <tbody>\n",
       "    <tr>\n",
       "      <th>11147</th>\n",
       "      <td>Lawrence d'Arabia</td>\n",
       "      <td>1962</td>\n",
       "      <td>The story of</td>\n",
       "    </tr>\n",
       "    <tr>\n",
       "      <th>11176</th>\n",
       "      <td>Anna dei miracoli</td>\n",
       "      <td>1962</td>\n",
       "      <td>The story of</td>\n",
       "    </tr>\n",
       "    <tr>\n",
       "      <th>12292</th>\n",
       "      <td>Flagrante adulterio</td>\n",
       "      <td>1965</td>\n",
       "      <td>In this sequel to</td>\n",
       "    </tr>\n",
       "    <tr>\n",
       "      <th>18589</th>\n",
       "      <td>Oliver's Story</td>\n",
       "      <td>1978</td>\n",
       "      <td>In this sequel to</td>\n",
       "    </tr>\n",
       "    <tr>\n",
       "      <th>20403</th>\n",
       "      <td>Frances</td>\n",
       "      <td>1982</td>\n",
       "      <td>The story of</td>\n",
       "    </tr>\n",
       "    <tr>\n",
       "      <th>23930</th>\n",
       "      <td>Gorilla nella nebbia</td>\n",
       "      <td>1988</td>\n",
       "      <td>The story of</td>\n",
       "    </tr>\n",
       "    <tr>\n",
       "      <th>25300</th>\n",
       "      <td>Quei bravi ragazzi</td>\n",
       "      <td>1990</td>\n",
       "      <td>The story of</td>\n",
       "    </tr>\n",
       "    <tr>\n",
       "      <th>26206</th>\n",
       "      <td>Ritorno alla laguna blu</td>\n",
       "      <td>1991</td>\n",
       "      <td>In this sequel to</td>\n",
       "    </tr>\n",
       "    <tr>\n",
       "      <th>33741</th>\n",
       "      <td>Revelation</td>\n",
       "      <td>1999</td>\n",
       "      <td>In this sequel to</td>\n",
       "    </tr>\n",
       "    <tr>\n",
       "      <th>52421</th>\n",
       "      <td>Milk</td>\n",
       "      <td>2008</td>\n",
       "      <td>The story of</td>\n",
       "    </tr>\n",
       "    <tr>\n",
       "      <th>57971</th>\n",
       "      <td>Lovelace</td>\n",
       "      <td>2013</td>\n",
       "      <td>The story of</td>\n",
       "    </tr>\n",
       "    <tr>\n",
       "      <th>58761</th>\n",
       "      <td>Il discorso del re</td>\n",
       "      <td>2010</td>\n",
       "      <td>The story of</td>\n",
       "    </tr>\n",
       "    <tr>\n",
       "      <th>66582</th>\n",
       "      <td>Jobs</td>\n",
       "      <td>2013</td>\n",
       "      <td>The story of</td>\n",
       "    </tr>\n",
       "    <tr>\n",
       "      <th>66971</th>\n",
       "      <td>Queen &amp; Country</td>\n",
       "      <td>2014</td>\n",
       "      <td>In this sequel to</td>\n",
       "    </tr>\n",
       "    <tr>\n",
       "      <th>74232</th>\n",
       "      <td>The Founder</td>\n",
       "      <td>2016</td>\n",
       "      <td>The story of</td>\n",
       "    </tr>\n",
       "    <tr>\n",
       "      <th>75364</th>\n",
       "      <td>Christine</td>\n",
       "      <td>2016</td>\n",
       "      <td>The story of</td>\n",
       "    </tr>\n",
       "    <tr>\n",
       "      <th>76963</th>\n",
       "      <td>The Silent Man</td>\n",
       "      <td>2017</td>\n",
       "      <td>The story of</td>\n",
       "    </tr>\n",
       "    <tr>\n",
       "      <th>77363</th>\n",
       "      <td>Marcia per la libertà</td>\n",
       "      <td>2017</td>\n",
       "      <td>The story of</td>\n",
       "    </tr>\n",
       "    <tr>\n",
       "      <th>77731</th>\n",
       "      <td>Nureyev - The White Crow</td>\n",
       "      <td>2018</td>\n",
       "      <td>The story of</td>\n",
       "    </tr>\n",
       "    <tr>\n",
       "      <th>80151</th>\n",
       "      <td>Vice - L'uomo nell'ombra</td>\n",
       "      <td>2018</td>\n",
       "      <td>The story of</td>\n",
       "    </tr>\n",
       "  </tbody>\n",
       "</table>\n",
       "</div>"
      ],
      "text/plain": [
       "                          title  year        description\n",
       "11147         Lawrence d'Arabia  1962       The story of\n",
       "11176         Anna dei miracoli  1962       The story of\n",
       "12292       Flagrante adulterio  1965  In this sequel to\n",
       "18589            Oliver's Story  1978  In this sequel to\n",
       "20403                   Frances  1982       The story of\n",
       "23930      Gorilla nella nebbia  1988       The story of\n",
       "25300        Quei bravi ragazzi  1990       The story of\n",
       "26206   Ritorno alla laguna blu  1991  In this sequel to\n",
       "33741                Revelation  1999  In this sequel to\n",
       "52421                      Milk  2008       The story of\n",
       "57971                  Lovelace  2013       The story of\n",
       "58761        Il discorso del re  2010       The story of\n",
       "66582                      Jobs  2013       The story of\n",
       "66971           Queen & Country  2014  In this sequel to\n",
       "74232               The Founder  2016       The story of\n",
       "75364                 Christine  2016       The story of\n",
       "76963            The Silent Man  2017       The story of\n",
       "77363     Marcia per la libertà  2017       The story of\n",
       "77731  Nureyev - The White Crow  2018       The story of\n",
       "80151  Vice - L'uomo nell'ombra  2018       The story of"
      ]
     },
     "execution_count": 10,
     "metadata": {},
     "output_type": "execute_result"
    }
   ],
   "source": [
    "df[df.description.isin([\"The story of\", \n",
    "                        \"In this sequel to\"\n",
    "                       ])\n",
    "  ][[\"title\", \"year\", \"description\"]]"
   ]
  },
  {
   "cell_type": "markdown",
   "metadata": {},
   "source": [
    "Filter out bad data"
   ]
  },
  {
   "cell_type": "code",
   "execution_count": 11,
   "metadata": {},
   "outputs": [],
   "source": [
    "bad_plots = [i[0] for i in get_most_common(training_data, 5)]"
   ]
  },
  {
   "cell_type": "code",
   "execution_count": 12,
   "metadata": {},
   "outputs": [],
   "source": [
    "training_data = [i for i in training_data if i not in bad_plots]"
   ]
  },
  {
   "cell_type": "code",
   "execution_count": 13,
   "metadata": {},
   "outputs": [
    {
     "name": "stdout",
     "output_type": "stream",
     "text": [
      "number of plots       : 59893\n",
      "number of unique plots: 59801\n",
      "number of duplicates  : 92\n"
     ]
    }
   ],
   "source": [
    "n_plots = len(training_data)\n",
    "n_unique = len(list(set(training_data)))\n",
    "n_dupe = n_plots - n_unique\n",
    "print(\"number of plots       :\", n_plots)\n",
    "print(\"number of unique plots:\", n_unique)\n",
    "print(\"number of duplicates  :\", n_dupe)"
   ]
  },
  {
   "cell_type": "markdown",
   "metadata": {},
   "source": [
    "Remove all dupes"
   ]
  },
  {
   "cell_type": "code",
   "execution_count": 14,
   "metadata": {},
   "outputs": [
    {
     "name": "stdout",
     "output_type": "stream",
     "text": [
      "number of unique plots: 59801\n"
     ]
    }
   ],
   "source": [
    "training_data = list(set(training_data))\n",
    "print(\"number of unique plots:\", len(training_data))"
   ]
  },
  {
   "cell_type": "markdown",
   "metadata": {},
   "source": [
    "Write plots to a text file, separated by a delimiter"
   ]
  },
  {
   "cell_type": "code",
   "execution_count": 15,
   "metadata": {},
   "outputs": [],
   "source": [
    "delim = \"<|endoftext|>\""
   ]
  },
  {
   "cell_type": "code",
   "execution_count": 16,
   "metadata": {},
   "outputs": [],
   "source": [
    "plots = open(\"plot_training.txt\", \"w\", encoding='utf-8')\n",
    "\n",
    "for i in training_data:\n",
    "    plots.write(\"{}\\n\\n{}\\n\\n\".format(i, delim))\n",
    "\n",
    "plots.close()"
   ]
  },
  {
   "cell_type": "markdown",
   "metadata": {},
   "source": [
    "## Add a second dataset"
   ]
  },
  {
   "cell_type": "code",
   "execution_count": 17,
   "metadata": {},
   "outputs": [],
   "source": [
    "df_other = pd.read_csv(\"data/movies_initial.csv\", encoding='utf-8')"
   ]
  },
  {
   "cell_type": "code",
   "execution_count": 26,
   "metadata": {},
   "outputs": [],
   "source": [
    "a = df_other.iloc[[2]]"
   ]
  },
  {
   "cell_type": "code",
   "execution_count": 28,
   "metadata": {},
   "outputs": [
    {
     "data": {
      "text/plain": [
       "'Oh shit, my pussy is on fire!'"
      ]
     },
     "execution_count": 28,
     "metadata": {},
     "output_type": "execute_result"
    }
   ],
   "source": [
    "s = \"Oh shit, my pussy is on fir�!\"\n",
    "s = re.sub(\"�\", \"e\", s)\n",
    "s"
   ]
  },
  {
   "cell_type": "code",
   "execution_count": 30,
   "metadata": {},
   "outputs": [],
   "source": [
    "df_other = df_other.loc[df_other.fullplot.notnull()]"
   ]
  },
  {
   "cell_type": "code",
   "execution_count": 31,
   "metadata": {},
   "outputs": [],
   "source": [
    "training_data2 = list(df_other.fullplot.values)"
   ]
  },
  {
   "cell_type": "markdown",
   "metadata": {},
   "source": [
    "Check for any duplicates"
   ]
  },
  {
   "cell_type": "code",
   "execution_count": 32,
   "metadata": {},
   "outputs": [
    {
     "name": "stdout",
     "output_type": "stream",
     "text": [
      "number of plots       : 41421\n",
      "number of unique plots: 39987\n",
      "number of duplicates  : 1434\n"
     ]
    }
   ],
   "source": [
    "n_plots = len(training_data2)\n",
    "n_unique = len(list(set(training_data2)))\n",
    "n_dupe = n_plots - n_unique\n",
    "print(\"number of plots       :\", n_plots)\n",
    "print(\"number of unique plots:\", n_unique)\n",
    "print(\"number of duplicates  :\", n_dupe)"
   ]
  },
  {
   "cell_type": "code",
   "execution_count": 33,
   "metadata": {},
   "outputs": [
    {
     "data": {
      "text/plain": [
       "[('The plot is unknown.', 9),\n",
       " ('The plot is unknown at this time.', 9),\n",
       " ('Plot is unknown.', 9),\n",
       " ('In the middle of the 19th century, Kristina and Karl-Oskar live in a small rural village in Smaaland (southern Sweden). They get married and try to make a living on a small spot of land. However, the small size of their land, the infertile soil, and some bad harvests makes it tough. One of their children even starve to death. Thus, they decide to emigrate to the U.S. They meet a group of farmers with their families planing the emigration under the leadership of a banned priest. They sell everything and embark for the U.S. The journey on the sailing ship is long and tedious. Some of the emigrants will never reach the New World.',\n",
       "  5),\n",
       " (\"This film continues from where Utvandrarna (1971) left off. Starting a new life in the New World from almost nothing is not easy. The winters and summers are more extreme than in the Old World. But the immigrants are rewarded for their hard work. They now live a better life than they did in Sweden. Bad times also come, however. The civil war starts and the Sioux Indians make a bloody uprising against the white settlers. Karl-Oskar's family survives all these. His brother, Robert, decides to seek his fortune in the gold fields of California. He never reaches California but acquires some fortune from his boss who dies of yellow fever on the way to the gold fields. An immigrant Swede dupes him of this fortune. Robert returns to his brother where he dies from a disease contracted on the trip. Kristina, whose thoughts never leave Sweden, has several more births and gets pregnant again against the advice of her doctor. This last pregnancy kills her. The children grow up and take over the farm. Karl-Oskar becomes old and lonely. He spends his last days dreaming of his youth in the Old World.\",\n",
       "  5),\n",
       " ('Malli is a 19 year old girl, who joined a terrorist organization at a very young age after her brother was killed in the cause. Now in her young adulthood, she volunteers for a suicide assassination mission to kill a VIP in the service of her cause. With intricate preparations and seemingly firm resolve, she makes her way to the target area where the plot will be executed. However, events occur that make her question her determination to complete her mission and the very nature of the sacrifice that she is called upon to make.',\n",
       "  5),\n",
       " (\"The Young Turks, one of the most popular online news shows in the world, has amassed a YouTube network consisting of millions of subscribers and billions of views. But that wasn't always the case. MAD AS HELL documents the tumultuous, at times hilarious and altogether astonishing trajectory of Cenk Uygur, The Young Turks' main host and founder, as he traverses from unknown Public Access TV host to internet sensation by way of YouTube. When he ventures into national television by landing the 6 PM time slot on MSNBC, Cenk's uncensored brand of journalism is compromised as he becomes a thorn in the side of traditional news media; his unwavering dedication to speaking the truth puts him at the very nexus of the battle between new and old media, and makes MAD AS HELL not only entertaining, but incredibly timely as well.\",\n",
       "  5),\n",
       " ('A hapless loser (with the surname of Loser) undergoes misadventures with avaracious clergy, a tired horse, and a walking granary (among other things) on his road to collectivized happiness.',\n",
       "  4)]"
      ]
     },
     "execution_count": 33,
     "metadata": {},
     "output_type": "execute_result"
    }
   ],
   "source": [
    "get_most_common(training_data2, 8)"
   ]
  },
  {
   "cell_type": "code",
   "execution_count": 34,
   "metadata": {},
   "outputs": [
    {
     "data": {
      "text/html": [
       "<div>\n",
       "<style scoped>\n",
       "    .dataframe tbody tr th:only-of-type {\n",
       "        vertical-align: middle;\n",
       "    }\n",
       "\n",
       "    .dataframe tbody tr th {\n",
       "        vertical-align: top;\n",
       "    }\n",
       "\n",
       "    .dataframe thead th {\n",
       "        text-align: right;\n",
       "    }\n",
       "</style>\n",
       "<table border=\"1\" class=\"dataframe\">\n",
       "  <thead>\n",
       "    <tr style=\"text-align: right;\">\n",
       "      <th></th>\n",
       "      <th>title</th>\n",
       "      <th>year</th>\n",
       "      <th>plot</th>\n",
       "      <th>fullplot</th>\n",
       "    </tr>\n",
       "  </thead>\n",
       "  <tbody>\n",
       "    <tr>\n",
       "      <th>30340</th>\n",
       "      <td>Pee-wee's Big Holiday</td>\n",
       "      <td>2016</td>\n",
       "      <td>The plot is unknown.</td>\n",
       "      <td>The plot is unknown.</td>\n",
       "    </tr>\n",
       "    <tr>\n",
       "      <th>33821</th>\n",
       "      <td>Ghostbusters</td>\n",
       "      <td>2016</td>\n",
       "      <td>The plot is unknown at this time.</td>\n",
       "      <td>The plot is unknown at this time.</td>\n",
       "    </tr>\n",
       "    <tr>\n",
       "      <th>33822</th>\n",
       "      <td>Ghostbusters</td>\n",
       "      <td>2016</td>\n",
       "      <td>The plot is unknown at this time.</td>\n",
       "      <td>The plot is unknown at this time.</td>\n",
       "    </tr>\n",
       "    <tr>\n",
       "      <th>35318</th>\n",
       "      <td>Bad Boys 3</td>\n",
       "      <td>2017</td>\n",
       "      <td>The plot is unknown at this time.</td>\n",
       "      <td>The plot is unknown at this time.</td>\n",
       "    </tr>\n",
       "    <tr>\n",
       "      <th>36800</th>\n",
       "      <td>Pee-wee's Big Holiday</td>\n",
       "      <td>2016</td>\n",
       "      <td>The plot is unknown.</td>\n",
       "      <td>The plot is unknown.</td>\n",
       "    </tr>\n",
       "    <tr>\n",
       "      <th>40080</th>\n",
       "      <td>Untitled Spider-Man Reboot</td>\n",
       "      <td>2017</td>\n",
       "      <td>The plot is unknown.</td>\n",
       "      <td>The plot is unknown.</td>\n",
       "    </tr>\n",
       "    <tr>\n",
       "      <th>40407</th>\n",
       "      <td>Prometheus 2</td>\n",
       "      <td>2017</td>\n",
       "      <td>The plot is unknown at this time.</td>\n",
       "      <td>The plot is unknown at this time.</td>\n",
       "    </tr>\n",
       "    <tr>\n",
       "      <th>41058</th>\n",
       "      <td>Goon: Last of the Enforcers</td>\n",
       "      <td>2016</td>\n",
       "      <td>The plot is unknown at this time.</td>\n",
       "      <td>The plot is unknown at this time.</td>\n",
       "    </tr>\n",
       "    <tr>\n",
       "      <th>41245</th>\n",
       "      <td>The Ridiculous 6</td>\n",
       "      <td>2015</td>\n",
       "      <td>The plot is unknown at this time.</td>\n",
       "      <td>The plot is unknown at this time.</td>\n",
       "    </tr>\n",
       "    <tr>\n",
       "      <th>41755</th>\n",
       "      <td>Star Trek Beyond</td>\n",
       "      <td>2016</td>\n",
       "      <td>The plot is unknown at this time.</td>\n",
       "      <td>The plot is unknown at this time.</td>\n",
       "    </tr>\n",
       "    <tr>\n",
       "      <th>42594</th>\n",
       "      <td>The Conjuring 2: The Enfield Poltergeist</td>\n",
       "      <td>2016</td>\n",
       "      <td>The plot is unknown.</td>\n",
       "      <td>The plot is unknown.</td>\n",
       "    </tr>\n",
       "    <tr>\n",
       "      <th>43214</th>\n",
       "      <td>Untitled Wolverine Sequel</td>\n",
       "      <td>2017</td>\n",
       "      <td>The plot is unknown.</td>\n",
       "      <td>The plot is unknown.</td>\n",
       "    </tr>\n",
       "    <tr>\n",
       "      <th>43359</th>\n",
       "      <td>X-Men: Apocalypse</td>\n",
       "      <td>2016</td>\n",
       "      <td>The plot is unknown at this time.</td>\n",
       "      <td>The plot is unknown at this time.</td>\n",
       "    </tr>\n",
       "    <tr>\n",
       "      <th>43976</th>\n",
       "      <td>Barbershop 3</td>\n",
       "      <td>2016</td>\n",
       "      <td>The plot is unknown.</td>\n",
       "      <td>The plot is unknown.</td>\n",
       "    </tr>\n",
       "    <tr>\n",
       "      <th>45042</th>\n",
       "      <td>Untitled Matt Damon/Bourne Sequel</td>\n",
       "      <td>2016</td>\n",
       "      <td>The plot is unknown.</td>\n",
       "      <td>The plot is unknown.</td>\n",
       "    </tr>\n",
       "    <tr>\n",
       "      <th>45476</th>\n",
       "      <td>Untitled Woody Allen Project</td>\n",
       "      <td>2016</td>\n",
       "      <td>The plot is unknown.</td>\n",
       "      <td>The plot is unknown.</td>\n",
       "    </tr>\n",
       "    <tr>\n",
       "      <th>45613</th>\n",
       "      <td>The OA</td>\n",
       "      <td>2016�</td>\n",
       "      <td>The plot is unknown at this time.</td>\n",
       "      <td>The plot is unknown at this time.</td>\n",
       "    </tr>\n",
       "    <tr>\n",
       "      <th>45867</th>\n",
       "      <td>Untitled Clea DuVall Project</td>\n",
       "      <td>2016</td>\n",
       "      <td>The plot is unknown.</td>\n",
       "      <td>The plot is unknown.</td>\n",
       "    </tr>\n",
       "  </tbody>\n",
       "</table>\n",
       "</div>"
      ],
      "text/plain": [
       "                                          title   year  \\\n",
       "30340                     Pee-wee's Big Holiday   2016   \n",
       "33821                              Ghostbusters   2016   \n",
       "33822                              Ghostbusters   2016   \n",
       "35318                                Bad Boys 3   2017   \n",
       "36800                     Pee-wee's Big Holiday   2016   \n",
       "40080                Untitled Spider-Man Reboot   2017   \n",
       "40407                              Prometheus 2   2017   \n",
       "41058               Goon: Last of the Enforcers   2016   \n",
       "41245                          The Ridiculous 6   2015   \n",
       "41755                          Star Trek Beyond   2016   \n",
       "42594  The Conjuring 2: The Enfield Poltergeist   2016   \n",
       "43214                 Untitled Wolverine Sequel   2017   \n",
       "43359                         X-Men: Apocalypse   2016   \n",
       "43976                              Barbershop 3   2016   \n",
       "45042         Untitled Matt Damon/Bourne Sequel   2016   \n",
       "45476              Untitled Woody Allen Project   2016   \n",
       "45613                                    The OA  2016�   \n",
       "45867              Untitled Clea DuVall Project   2016   \n",
       "\n",
       "                                    plot                           fullplot  \n",
       "30340               The plot is unknown.               The plot is unknown.  \n",
       "33821  The plot is unknown at this time.  The plot is unknown at this time.  \n",
       "33822  The plot is unknown at this time.  The plot is unknown at this time.  \n",
       "35318  The plot is unknown at this time.  The plot is unknown at this time.  \n",
       "36800               The plot is unknown.               The plot is unknown.  \n",
       "40080               The plot is unknown.               The plot is unknown.  \n",
       "40407  The plot is unknown at this time.  The plot is unknown at this time.  \n",
       "41058  The plot is unknown at this time.  The plot is unknown at this time.  \n",
       "41245  The plot is unknown at this time.  The plot is unknown at this time.  \n",
       "41755  The plot is unknown at this time.  The plot is unknown at this time.  \n",
       "42594               The plot is unknown.               The plot is unknown.  \n",
       "43214               The plot is unknown.               The plot is unknown.  \n",
       "43359  The plot is unknown at this time.  The plot is unknown at this time.  \n",
       "43976               The plot is unknown.               The plot is unknown.  \n",
       "45042               The plot is unknown.               The plot is unknown.  \n",
       "45476               The plot is unknown.               The plot is unknown.  \n",
       "45613  The plot is unknown at this time.  The plot is unknown at this time.  \n",
       "45867               The plot is unknown.               The plot is unknown.  "
      ]
     },
     "execution_count": 34,
     "metadata": {},
     "output_type": "execute_result"
    }
   ],
   "source": [
    "df_other[df_other.fullplot.isin([\"The plot is unknown.\", \n",
    "                                 \"The plot is unknown at this time.\"])][[\"title\", \"year\", \"plot\", \"fullplot\"]]"
   ]
  },
  {
   "cell_type": "code",
   "execution_count": 35,
   "metadata": {},
   "outputs": [],
   "source": [
    "bad_plots2 = [i[0] for i in get_most_common(training_data2, 3)]"
   ]
  },
  {
   "cell_type": "code",
   "execution_count": 99,
   "metadata": {},
   "outputs": [],
   "source": [
    "training_data2 = [i for i in training_data2 if i not in bad_plots2]"
   ]
  },
  {
   "cell_type": "code",
   "execution_count": 36,
   "metadata": {},
   "outputs": [
    {
     "name": "stdout",
     "output_type": "stream",
     "text": [
      "number of plots       : 41421\n",
      "number of unique plots: 39987\n",
      "number of duplicates  : 1434\n"
     ]
    }
   ],
   "source": [
    "n_plots = len(training_data2)\n",
    "n_unique = len(list(set(training_data2)))\n",
    "n_dupe = n_plots - n_unique\n",
    "print(\"number of plots       :\", n_plots)\n",
    "print(\"number of unique plots:\", n_unique)\n",
    "print(\"number of duplicates  :\", n_dupe)"
   ]
  },
  {
   "cell_type": "code",
   "execution_count": 37,
   "metadata": {},
   "outputs": [
    {
     "data": {
      "text/html": [
       "<div>\n",
       "<style scoped>\n",
       "    .dataframe tbody tr th:only-of-type {\n",
       "        vertical-align: middle;\n",
       "    }\n",
       "\n",
       "    .dataframe tbody tr th {\n",
       "        vertical-align: top;\n",
       "    }\n",
       "\n",
       "    .dataframe thead th {\n",
       "        text-align: right;\n",
       "    }\n",
       "</style>\n",
       "<table border=\"1\" class=\"dataframe\">\n",
       "  <thead>\n",
       "    <tr style=\"text-align: right;\">\n",
       "      <th></th>\n",
       "      <th>title</th>\n",
       "      <th>year</th>\n",
       "      <th>plot</th>\n",
       "      <th>fullplot</th>\n",
       "    </tr>\n",
       "  </thead>\n",
       "  <tbody>\n",
       "    <tr>\n",
       "      <th>8441</th>\n",
       "      <td>The Emigrants</td>\n",
       "      <td>1971</td>\n",
       "      <td>In the middle of the 19th century, Kristina an...</td>\n",
       "      <td>In the middle of the 19th century, Kristina an...</td>\n",
       "    </tr>\n",
       "    <tr>\n",
       "      <th>26716</th>\n",
       "      <td>The Emigrants</td>\n",
       "      <td>1971</td>\n",
       "      <td>In the middle of the 19th century, Kristina an...</td>\n",
       "      <td>In the middle of the 19th century, Kristina an...</td>\n",
       "    </tr>\n",
       "    <tr>\n",
       "      <th>26717</th>\n",
       "      <td>The Emigrants</td>\n",
       "      <td>1971</td>\n",
       "      <td>In the middle of the 19th century, Kristina an...</td>\n",
       "      <td>In the middle of the 19th century, Kristina an...</td>\n",
       "    </tr>\n",
       "    <tr>\n",
       "      <th>26719</th>\n",
       "      <td>The Emigrants</td>\n",
       "      <td>1971</td>\n",
       "      <td>In the middle of the 19th century, Kristina an...</td>\n",
       "      <td>In the middle of the 19th century, Kristina an...</td>\n",
       "    </tr>\n",
       "    <tr>\n",
       "      <th>26720</th>\n",
       "      <td>The Emigrants</td>\n",
       "      <td>1971</td>\n",
       "      <td>In the middle of the 19th century, Kristina an...</td>\n",
       "      <td>In the middle of the 19th century, Kristina an...</td>\n",
       "    </tr>\n",
       "  </tbody>\n",
       "</table>\n",
       "</div>"
      ],
      "text/plain": [
       "               title  year                                               plot  \\\n",
       "8441   The Emigrants  1971  In the middle of the 19th century, Kristina an...   \n",
       "26716  The Emigrants  1971  In the middle of the 19th century, Kristina an...   \n",
       "26717  The Emigrants  1971  In the middle of the 19th century, Kristina an...   \n",
       "26719  The Emigrants  1971  In the middle of the 19th century, Kristina an...   \n",
       "26720  The Emigrants  1971  In the middle of the 19th century, Kristina an...   \n",
       "\n",
       "                                                fullplot  \n",
       "8441   In the middle of the 19th century, Kristina an...  \n",
       "26716  In the middle of the 19th century, Kristina an...  \n",
       "26717  In the middle of the 19th century, Kristina an...  \n",
       "26719  In the middle of the 19th century, Kristina an...  \n",
       "26720  In the middle of the 19th century, Kristina an...  "
      ]
     },
     "execution_count": 37,
     "metadata": {},
     "output_type": "execute_result"
    }
   ],
   "source": [
    "df_other[df_other.fullplot==\"In the middle of the 19th century, Kristina and Karl-Oskar live in a small rural village in Smaaland (southern Sweden). They get married and try to make a living on a small spot of land. However, the small size of their land, the infertile soil, and some bad harvests makes it tough. One of their children even starve to death. Thus, they decide to emigrate to the U.S. They meet a group of farmers with their families planing the emigration under the leadership of a banned priest. They sell everything and embark for the U.S. The journey on the sailing ship is long and tedious. Some of the emigrants will never reach the New World.\"][[\"title\", \"year\", \"plot\", \"fullplot\"]]"
   ]
  },
  {
   "cell_type": "code",
   "execution_count": 38,
   "metadata": {},
   "outputs": [
    {
     "name": "stdout",
     "output_type": "stream",
     "text": [
      "number of unique plots: 39987\n"
     ]
    }
   ],
   "source": [
    "training_data2 = list(set(training_data2))\n",
    "print(\"number of unique plots:\", len(training_data2))"
   ]
  },
  {
   "cell_type": "code",
   "execution_count": 40,
   "metadata": {},
   "outputs": [
    {
     "name": "stdout",
     "output_type": "stream",
     "text": [
      "Total training samples: 99788\n"
     ]
    }
   ],
   "source": [
    "all_training_data = training_data + training_data2\n",
    "print(\"Total training samples:\", len(all_training_data))"
   ]
  },
  {
   "cell_type": "markdown",
   "metadata": {},
   "source": [
    "Make sure there are no duplicates in the final list"
   ]
  },
  {
   "cell_type": "code",
   "execution_count": 41,
   "metadata": {},
   "outputs": [
    {
     "name": "stdout",
     "output_type": "stream",
     "text": [
      "Total training samples: 95443\n"
     ]
    }
   ],
   "source": [
    "all_training_data = list(set(all_training_data))\n",
    "print(\"Total training samples:\", len(all_training_data))"
   ]
  },
  {
   "cell_type": "code",
   "execution_count": 42,
   "metadata": {},
   "outputs": [],
   "source": [
    "delim = \"<|endoftext|>\"\n",
    "\n",
    "plots = open(\"plot_training.txt\", \"w\", encoding='utf-8')\n",
    "\n",
    "for i in all_training_data:\n",
    "    plots.write(\"{}\\n\\n{}\\n\\n\".format(i, delim))\n",
    "\n",
    "plots.close()"
   ]
  },
  {
   "cell_type": "markdown",
   "metadata": {},
   "source": [
    "# Add titles to training data"
   ]
  },
  {
   "cell_type": "code",
   "execution_count": 35,
   "metadata": {},
   "outputs": [
    {
     "name": "stderr",
     "output_type": "stream",
     "text": [
      "C:\\Users\\natha\\Anaconda3\\lib\\site-packages\\IPython\\core\\interactiveshell.py:3058: DtypeWarning: Columns (3) have mixed types.Specify dtype option on import or set low_memory=False.\n",
      "  interactivity=interactivity, compiler=compiler, result=result)\n"
     ]
    }
   ],
   "source": [
    "df = pd.read_csv(\"data/IMDb movies.csv\")\n",
    "df2 = pd.read_csv(\"data/movies_initial.csv\")"
   ]
  },
  {
   "cell_type": "code",
   "execution_count": 36,
   "metadata": {},
   "outputs": [],
   "source": [
    "temp = df.loc[df.description.notnull()].copy()\n",
    "temp = temp.loc[temp.title.notnull()].copy()\n",
    "df = temp[~temp.description.str.contains(\"\\.{3}$\")].copy()\n",
    "\n",
    "temp2 = df2.loc[df2.fullplot.notnull()].copy()\n",
    "df2 = temp2.loc[temp2.title.notnull()].copy()"
   ]
  },
  {
   "cell_type": "code",
   "execution_count": 37,
   "metadata": {},
   "outputs": [],
   "source": [
    "df[\"training\"] = df[\"title\"] + \"$\" + df[\"description\"]\n",
    "df2[\"training\"] = df2[\"title\"] + \"$\" + df2[\"fullplot\"]"
   ]
  },
  {
   "cell_type": "code",
   "execution_count": 38,
   "metadata": {},
   "outputs": [],
   "source": [
    "training_data = list(df['training'].values)\n",
    "training_data2 = list(df2['training'].values)"
   ]
  },
  {
   "cell_type": "code",
   "execution_count": 41,
   "metadata": {},
   "outputs": [],
   "source": [
    "training_data2 = [re.sub(\"�\", \"e\", i) for i in training_data2]"
   ]
  },
  {
   "cell_type": "code",
   "execution_count": 43,
   "metadata": {},
   "outputs": [],
   "source": [
    "all_training_data = training_data + training_data2"
   ]
  },
  {
   "cell_type": "code",
   "execution_count": 44,
   "metadata": {},
   "outputs": [
    {
     "name": "stdout",
     "output_type": "stream",
     "text": [
      "101350\n"
     ]
    }
   ],
   "source": [
    "print(len(all_training_data))"
   ]
  },
  {
   "cell_type": "code",
   "execution_count": 45,
   "metadata": {},
   "outputs": [
    {
     "name": "stdout",
     "output_type": "stream",
     "text": [
      "97860\n"
     ]
    }
   ],
   "source": [
    "all_training_data = list(set(all_training_data))\n",
    "print(len(all_training_data))"
   ]
  },
  {
   "cell_type": "code",
   "execution_count": 46,
   "metadata": {},
   "outputs": [],
   "source": [
    "plots = open(\"title-plot_training.txt\", \"w\", encoding='utf-8')\n",
    "\n",
    "for i in all_training_data:\n",
    "    splt = i.split(\"$\")\n",
    "    dat = \"{}\\n\\n{}\\n{}\\n\".format(splt[0], splt[1], \"<|endoftext|>\")\n",
    "    plots.write(dat)\n",
    "\n",
    "plots.close()"
   ]
  },
  {
   "cell_type": "code",
   "execution_count": null,
   "metadata": {},
   "outputs": [],
   "source": []
  }
 ],
 "metadata": {
  "kernelspec": {
   "display_name": "Python 3",
   "language": "python",
   "name": "python3"
  },
  "language_info": {
   "codemirror_mode": {
    "name": "ipython",
    "version": 3
   },
   "file_extension": ".py",
   "mimetype": "text/x-python",
   "name": "python",
   "nbconvert_exporter": "python",
   "pygments_lexer": "ipython3",
   "version": "3.7.4"
  }
 },
 "nbformat": 4,
 "nbformat_minor": 2
}
